{
 "cells": [
  {
   "cell_type": "code",
   "execution_count": 2,
   "metadata": {},
   "outputs": [],
   "source": [
    "# Data Visualizations\n",
    "# 1) Software/tech jobs split up by state (identify lowest steps)\n",
    "# 2) Software/tech jobs split up by city in the midwestern states \n",
    "# 3) Number of software/tech students per Midwestern university "
   ]
  },
  {
   "cell_type": "code",
   "execution_count": 3,
   "metadata": {},
   "outputs": [],
   "source": [
    "# Data Source(s):\n",
    "# US Bureau of Labor Statistics (May 2019)\n",
    "# National Center for Education Statistics (NCES) (2018-2019)"
   ]
  },
  {
   "cell_type": "code",
   "execution_count": 5,
   "metadata": {},
   "outputs": [],
   "source": [
    "import os.path\n",
    "import pandas as pd \n",
    "import numpy as np\n",
    "import matplotlib.pyplot as plt \n",
    "import seaborn as sns"
   ]
  },
  {
   "cell_type": "code",
   "execution_count": 9,
   "metadata": {},
   "outputs": [],
   "source": [
    "data = \"/Users/skasralikar/Desktop/github/rmds/datasets\"\n",
    "state = pd.read_csv(os.path.join(data,'job_state.csv'), sep =',')\n",
    "city = pd.read_csv(os.path.join(data, 'job_city.csv'), sep =',')\n",
    "majors = pd.read_csv(os.path.join(data, 'CS_majors.csv'), sep = ',')\n",
    "statecode = pd.read_csv(os.path.join(data, 'state_code.csv'),sep = ',')"
   ]
  },
  {
   "cell_type": "code",
   "execution_count": 18,
   "metadata": {},
   "outputs": [
    {
     "data": {
      "text/html": [
       "<div>\n",
       "<style scoped>\n",
       "    .dataframe tbody tr th:only-of-type {\n",
       "        vertical-align: middle;\n",
       "    }\n",
       "\n",
       "    .dataframe tbody tr th {\n",
       "        vertical-align: top;\n",
       "    }\n",
       "\n",
       "    .dataframe thead th {\n",
       "        text-align: right;\n",
       "    }\n",
       "</style>\n",
       "<table border=\"1\" class=\"dataframe\">\n",
       "  <thead>\n",
       "    <tr style=\"text-align: right;\">\n",
       "      <th></th>\n",
       "      <th>area_title</th>\n",
       "      <th>occ_title</th>\n",
       "      <th>tot_emp</th>\n",
       "    </tr>\n",
       "  </thead>\n",
       "  <tbody>\n",
       "    <tr>\n",
       "      <td>0</td>\n",
       "      <td>Alabama</td>\n",
       "      <td>All Occupations</td>\n",
       "      <td>1,974,170</td>\n",
       "    </tr>\n",
       "    <tr>\n",
       "      <td>1</td>\n",
       "      <td>Alabama</td>\n",
       "      <td>Management Occupations</td>\n",
       "      <td>83,760</td>\n",
       "    </tr>\n",
       "    <tr>\n",
       "      <td>2</td>\n",
       "      <td>Alabama</td>\n",
       "      <td>Chief Executives</td>\n",
       "      <td>1,320</td>\n",
       "    </tr>\n",
       "    <tr>\n",
       "      <td>3</td>\n",
       "      <td>Alabama</td>\n",
       "      <td>General and Operations Managers</td>\n",
       "      <td>30,790</td>\n",
       "    </tr>\n",
       "    <tr>\n",
       "      <td>4</td>\n",
       "      <td>Alabama</td>\n",
       "      <td>Legislators</td>\n",
       "      <td>1,110</td>\n",
       "    </tr>\n",
       "    <tr>\n",
       "      <td>...</td>\n",
       "      <td>...</td>\n",
       "      <td>...</td>\n",
       "      <td>...</td>\n",
       "    </tr>\n",
       "    <tr>\n",
       "      <td>36377</td>\n",
       "      <td>Virgin Islands</td>\n",
       "      <td>Crane and Tower Operators</td>\n",
       "      <td>40</td>\n",
       "    </tr>\n",
       "    <tr>\n",
       "      <td>36378</td>\n",
       "      <td>Virgin Islands</td>\n",
       "      <td>Industrial Truck and Tractor Operators</td>\n",
       "      <td>60</td>\n",
       "    </tr>\n",
       "    <tr>\n",
       "      <td>36379</td>\n",
       "      <td>Virgin Islands</td>\n",
       "      <td>Laborers and Freight, Stock, and Material Move...</td>\n",
       "      <td>470</td>\n",
       "    </tr>\n",
       "    <tr>\n",
       "      <td>36380</td>\n",
       "      <td>Virgin Islands</td>\n",
       "      <td>Packers and Packagers, Hand</td>\n",
       "      <td>120</td>\n",
       "    </tr>\n",
       "    <tr>\n",
       "      <td>36381</td>\n",
       "      <td>Virgin Islands</td>\n",
       "      <td>Stockers and Order Fillers</td>\n",
       "      <td>630</td>\n",
       "    </tr>\n",
       "  </tbody>\n",
       "</table>\n",
       "<p>36382 rows × 3 columns</p>\n",
       "</div>"
      ],
      "text/plain": [
       "           area_title                                          occ_title  \\\n",
       "0             Alabama                                    All Occupations   \n",
       "1             Alabama                             Management Occupations   \n",
       "2             Alabama                                   Chief Executives   \n",
       "3             Alabama                    General and Operations Managers   \n",
       "4             Alabama                                        Legislators   \n",
       "...               ...                                                ...   \n",
       "36377  Virgin Islands                          Crane and Tower Operators   \n",
       "36378  Virgin Islands             Industrial Truck and Tractor Operators   \n",
       "36379  Virgin Islands  Laborers and Freight, Stock, and Material Move...   \n",
       "36380  Virgin Islands                        Packers and Packagers, Hand   \n",
       "36381  Virgin Islands                         Stockers and Order Fillers   \n",
       "\n",
       "         tot_emp  \n",
       "0      1,974,170  \n",
       "1         83,760  \n",
       "2          1,320  \n",
       "3         30,790  \n",
       "4          1,110  \n",
       "...          ...  \n",
       "36377         40  \n",
       "36378         60  \n",
       "36379        470  \n",
       "36380        120  \n",
       "36381        630  \n",
       "\n",
       "[36382 rows x 3 columns]"
      ]
     },
     "execution_count": 18,
     "metadata": {},
     "output_type": "execute_result"
    }
   ],
   "source": [
    "state"
   ]
  },
  {
   "cell_type": "code",
   "execution_count": 19,
   "metadata": {},
   "outputs": [
    {
     "data": {
      "text/plain": [
       "<pandas.core.groupby.generic.DataFrameGroupBy object at 0x1a22345fd0>"
      ]
     },
     "execution_count": 19,
     "metadata": {},
     "output_type": "execute_result"
    }
   ],
   "source": []
  },
  {
   "cell_type": "code",
   "execution_count": null,
   "metadata": {},
   "outputs": [],
   "source": []
  }
 ],
 "metadata": {
  "kernelspec": {
   "display_name": "Python 3",
   "language": "python",
   "name": "python3"
  },
  "language_info": {
   "codemirror_mode": {
    "name": "ipython",
    "version": 3
   },
   "file_extension": ".py",
   "mimetype": "text/x-python",
   "name": "python",
   "nbconvert_exporter": "python",
   "pygments_lexer": "ipython3",
   "version": "3.7.4"
  }
 },
 "nbformat": 4,
 "nbformat_minor": 2
}
