{
 "cells": [
  {
   "cell_type": "code",
   "execution_count": 2,
   "metadata": {},
   "outputs": [],
   "source": [
    "# Data Visualizations\n",
    "# 1) Software/tech jobs split up by state (identify lowest steps)\n",
    "# 2) Software/tech jobs split up by city in the midwestern states \n",
    "# 3) Number of software/tech students per Midwestern university "
   ]
  },
  {
   "cell_type": "code",
   "execution_count": 3,
   "metadata": {},
   "outputs": [],
   "source": [
    "# Data Source(s):\n",
    "# US Bureau of Labor Statistics (May 2019)\n",
    "# National Center for Education Statistics (NCES) (2018-2019)"
   ]
  },
  {
   "cell_type": "code",
   "execution_count": 4,
   "metadata": {},
   "outputs": [],
   "source": [
    "import os.path\n",
    "import pandas as pd \n",
    "import numpy as np\n",
    "import matplotlib.pyplot as plt \n",
    "import seaborn as sns"
   ]
  },
  {
   "cell_type": "code",
   "execution_count": 5,
   "metadata": {},
   "outputs": [],
   "source": [
    "data = \"/Users/skasralikar/Desktop/github/rmds/datasets\"\n",
    "state = pd.read_csv(os.path.join(data,'job_state.csv'), sep =',')\n",
    "city = pd.read_csv(os.path.join(data, 'job_city.csv'), sep =',')\n",
    "majors = pd.read_csv(os.path.join(data, 'CS_majors.csv'), sep = ',')\n",
    "statecode = pd.read_csv(os.path.join(data, 'state_code.csv'),sep = ',')"
   ]
  },
  {
   "cell_type": "code",
   "execution_count": 11,
   "metadata": {},
   "outputs": [
    {
     "data": {
      "text/plain": [
       "area_title    False\n",
       "City          False\n",
       "State         False\n",
       "State          True\n",
       "occ_title     False\n",
       "tot_emp       False\n",
       "dtype: bool"
      ]
     },
     "execution_count": 11,
     "metadata": {},
     "output_type": "execute_result"
    }
   ],
   "source": [
    "state.isnull().any()\n",
    "city.isnull().any()"
   ]
  },
  {
   "cell_type": "code",
   "execution_count": 12,
   "metadata": {},
   "outputs": [
    {
     "data": {
      "text/plain": [
       "UnitID                                                              False\n",
       "Institution Name                                                    False\n",
       "FIPS state code (HD2018)                                            False\n",
       "Grand total (EF2018CP  14.0000-Engineering  Undergraduate total)     True\n",
       "Unnamed: 4                                                           True\n",
       "dtype: bool"
      ]
     },
     "execution_count": 12,
     "metadata": {},
     "output_type": "execute_result"
    }
   ],
   "source": [
    "majors.isnull().any()"
   ]
  },
  {
   "cell_type": "code",
   "execution_count": 26,
   "metadata": {},
   "outputs": [],
   "source": [
    "tech = \"Computer and Information Systems Managers|Computer and Mathematical Occupations|Computer Occupations, All Other\""
   ]
  },
  {
   "cell_type": "code",
   "execution_count": 34,
   "metadata": {},
   "outputs": [
    {
     "data": {
      "text/html": [
       "<div>\n",
       "<style scoped>\n",
       "    .dataframe tbody tr th:only-of-type {\n",
       "        vertical-align: middle;\n",
       "    }\n",
       "\n",
       "    .dataframe tbody tr th {\n",
       "        vertical-align: top;\n",
       "    }\n",
       "\n",
       "    .dataframe thead th {\n",
       "        text-align: right;\n",
       "    }\n",
       "</style>\n",
       "<table border=\"1\" class=\"dataframe\">\n",
       "  <thead>\n",
       "    <tr style=\"text-align: right;\">\n",
       "      <th></th>\n",
       "      <th>area_title</th>\n",
       "      <th>tot_emp</th>\n",
       "    </tr>\n",
       "  </thead>\n",
       "  <tbody>\n",
       "    <tr>\n",
       "      <td>10</td>\n",
       "      <td>Alabama</td>\n",
       "      <td>3,650</td>\n",
       "    </tr>\n",
       "    <tr>\n",
       "      <td>61</td>\n",
       "      <td>Alabama</td>\n",
       "      <td>44,070</td>\n",
       "    </tr>\n",
       "    <tr>\n",
       "      <td>72</td>\n",
       "      <td>Alabama</td>\n",
       "      <td>2,240</td>\n",
       "    </tr>\n",
       "    <tr>\n",
       "      <td>732</td>\n",
       "      <td>Alaska</td>\n",
       "      <td>500</td>\n",
       "    </tr>\n",
       "    <tr>\n",
       "      <td>780</td>\n",
       "      <td>Alaska</td>\n",
       "      <td>5,050</td>\n",
       "    </tr>\n",
       "    <tr>\n",
       "      <td>...</td>\n",
       "      <td>...</td>\n",
       "      <td>...</td>\n",
       "    </tr>\n",
       "    <tr>\n",
       "      <td>35679</td>\n",
       "      <td>Puerto Rico</td>\n",
       "      <td>12,110</td>\n",
       "    </tr>\n",
       "    <tr>\n",
       "      <td>35690</td>\n",
       "      <td>Puerto Rico</td>\n",
       "      <td>880</td>\n",
       "    </tr>\n",
       "    <tr>\n",
       "      <td>36204</td>\n",
       "      <td>Virgin Islands</td>\n",
       "      <td>50</td>\n",
       "    </tr>\n",
       "    <tr>\n",
       "      <td>36226</td>\n",
       "      <td>Virgin Islands</td>\n",
       "      <td>370</td>\n",
       "    </tr>\n",
       "    <tr>\n",
       "      <td>36230</td>\n",
       "      <td>Virgin Islands</td>\n",
       "      <td>60</td>\n",
       "    </tr>\n",
       "  </tbody>\n",
       "</table>\n",
       "<p>162 rows × 2 columns</p>\n",
       "</div>"
      ],
      "text/plain": [
       "           area_title tot_emp\n",
       "10            Alabama   3,650\n",
       "61            Alabama  44,070\n",
       "72            Alabama   2,240\n",
       "732            Alaska     500\n",
       "780            Alaska   5,050\n",
       "...               ...     ...\n",
       "35679     Puerto Rico  12,110\n",
       "35690     Puerto Rico     880\n",
       "36204  Virgin Islands      50\n",
       "36226  Virgin Islands     370\n",
       "36230  Virgin Islands      60\n",
       "\n",
       "[162 rows x 2 columns]"
      ]
     },
     "execution_count": 34,
     "metadata": {},
     "output_type": "execute_result"
    }
   ],
   "source": [
    "statetech = state[state['occ_title'].str.contains(tech)]\n",
    "statetech.drop(['occ_title'], axis = 1)\n",
    "statetech"
   ]
  },
  {
   "cell_type": "code",
   "execution_count": null,
   "metadata": {},
   "outputs": [],
   "source": []
  }
 ],
 "metadata": {
  "kernelspec": {
   "display_name": "Python 3",
   "language": "python",
   "name": "python3"
  },
  "language_info": {
   "codemirror_mode": {
    "name": "ipython",
    "version": 3
   },
   "file_extension": ".py",
   "mimetype": "text/x-python",
   "name": "python",
   "nbconvert_exporter": "python",
   "pygments_lexer": "ipython3",
   "version": "3.7.4"
  }
 },
 "nbformat": 4,
 "nbformat_minor": 2
}
